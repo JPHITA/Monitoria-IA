{
 "cells": [
  {
   "cell_type": "code",
   "execution_count": null,
   "metadata": {},
   "outputs": [],
   "source": [
    "import numpy as np\n",
    "import pandas as pd\n",
    "import matplotlib.pyplot as plt\n",
    "import tensorflow as tf"
   ]
  },
  {
   "cell_type": "code",
   "execution_count": null,
   "metadata": {},
   "outputs": [],
   "source": [
    "def Cargar_img(directorio: str, img_size: tuple[int, int], color_mode: str):\n",
    "    import tensorflow as tf\n",
    "    import numpy as np\n",
    "    from os import listdir\n",
    "    import os\n",
    "\n",
    "    X, y = [], []\n",
    "    class_names = listdir(directorio)\n",
    "    for i, img_fold in enumerate(class_names):\n",
    "        \n",
    "        images_path = listdir(os.path.join(directorio, img_fold))\n",
    "        y.extend([i]*len(images_path))\n",
    "        for img_name in images_path:\n",
    "            image = tf.keras.utils.load_img(\n",
    "                os.path.join(directorio, img_fold, img_name),\n",
    "                color_mode = color_mode,\n",
    "                target_size= img_size,\n",
    "                interpolation=\"nearest\",\n",
    "                keep_aspect_ratio=False,\n",
    "            )\n",
    "\n",
    "            image = tf.keras.utils.img_to_array(image, data_format=\"channels_last\")\n",
    "\n",
    "            X.append(image)\n",
    "    \n",
    "    print(\"clases encontradas:\", class_names)\n",
    "    X = np.array(X)\n",
    "    y = np.array(y)\n",
    "\n",
    "    i = np.arange(0, y.shape[0])\n",
    "    np.random.shuffle(i)\n",
    "\n",
    "    return X[i], y[i]"
   ]
  }
 ],
 "metadata": {
  "language_info": {
   "name": "python"
  },
  "orig_nbformat": 4
 },
 "nbformat": 4,
 "nbformat_minor": 2
}
